{
 "cells": [
  {
   "cell_type": "code",
   "execution_count": 1,
   "id": "d807f0ec-54d6-499a-861c-686f20cdc000",
   "metadata": {},
   "outputs": [
    {
     "name": "stderr",
     "output_type": "stream",
     "text": [
      "C:\\Users\\e038654\\PycharmProjects\\packages\\venv\\lib\\site-packages\\rio_tiler\\io\\rasterio.py:130: NoOverviewWarning: The dataset has no Overviews. rio-tiler performances might be impacted.\n",
      "  warnings.warn(\n",
      "C:\\Users\\e038654\\PycharmProjects\\packages\\venv\\lib\\site-packages\\localtileserver\\widgets.py:183: UserWarning: The `band` keyword argument is deprecated. Please use `indexes` instead.\n",
      "  warnings.warn(\n"
     ]
    },
    {
     "data": {
      "text/plain": "<folium.folium.Map at 0x1ef9ad4ada0>",
      "text/html": "<div style=\"width:100%;\"><div style=\"position:relative;width:100%;height:0;padding-bottom:60%;\"><span style=\"color:#565656\">Make this Notebook Trusted to load map: File -> Trust Notebook</span><iframe srcdoc=\"&lt;!DOCTYPE html&gt;\n&lt;html&gt;\n&lt;head&gt;\n    \n    &lt;meta http-equiv=&quot;content-type&quot; content=&quot;text/html; charset=UTF-8&quot; /&gt;\n    \n        &lt;script&gt;\n            L_NO_TOUCH = false;\n            L_DISABLE_3D = false;\n        &lt;/script&gt;\n    \n    &lt;style&gt;html, body {width: 100%;height: 100%;margin: 0;padding: 0;}&lt;/style&gt;\n    &lt;style&gt;#map {position:absolute;top:0;bottom:0;right:0;left:0;}&lt;/style&gt;\n    &lt;script src=&quot;https://cdn.jsdelivr.net/npm/leaflet@1.9.3/dist/leaflet.js&quot;&gt;&lt;/script&gt;\n    &lt;script src=&quot;https://code.jquery.com/jquery-3.7.1.min.js&quot;&gt;&lt;/script&gt;\n    &lt;script src=&quot;https://cdn.jsdelivr.net/npm/bootstrap@5.2.2/dist/js/bootstrap.bundle.min.js&quot;&gt;&lt;/script&gt;\n    &lt;script src=&quot;https://cdnjs.cloudflare.com/ajax/libs/Leaflet.awesome-markers/2.0.2/leaflet.awesome-markers.js&quot;&gt;&lt;/script&gt;\n    &lt;link rel=&quot;stylesheet&quot; href=&quot;https://cdn.jsdelivr.net/npm/leaflet@1.9.3/dist/leaflet.css&quot;/&gt;\n    &lt;link rel=&quot;stylesheet&quot; href=&quot;https://cdn.jsdelivr.net/npm/bootstrap@5.2.2/dist/css/bootstrap.min.css&quot;/&gt;\n    &lt;link rel=&quot;stylesheet&quot; href=&quot;https://netdna.bootstrapcdn.com/bootstrap/3.0.0/css/bootstrap.min.css&quot;/&gt;\n    &lt;link rel=&quot;stylesheet&quot; href=&quot;https://cdn.jsdelivr.net/npm/@fortawesome/fontawesome-free@6.2.0/css/all.min.css&quot;/&gt;\n    &lt;link rel=&quot;stylesheet&quot; href=&quot;https://cdnjs.cloudflare.com/ajax/libs/Leaflet.awesome-markers/2.0.2/leaflet.awesome-markers.css&quot;/&gt;\n    &lt;link rel=&quot;stylesheet&quot; href=&quot;https://cdn.jsdelivr.net/gh/python-visualization/folium/folium/templates/leaflet.awesome.rotate.min.css&quot;/&gt;\n    \n            &lt;meta name=&quot;viewport&quot; content=&quot;width=device-width,\n                initial-scale=1.0, maximum-scale=1.0, user-scalable=no&quot; /&gt;\n            &lt;style&gt;\n                #map_b19be8c4167dac08acdca58efae4b3b3 {\n                    position: relative;\n                    width: 100.0%;\n                    height: 100.0%;\n                    left: 0.0%;\n                    top: 0.0%;\n                }\n                .leaflet-container { font-size: 1rem; }\n            &lt;/style&gt;\n        \n&lt;/head&gt;\n&lt;body&gt;\n    \n    \n            &lt;div class=&quot;folium-map&quot; id=&quot;map_b19be8c4167dac08acdca58efae4b3b3&quot; &gt;&lt;/div&gt;\n        \n&lt;/body&gt;\n&lt;script&gt;\n    \n    \n            var map_b19be8c4167dac08acdca58efae4b3b3 = L.map(\n                &quot;map_b19be8c4167dac08acdca58efae4b3b3&quot;,\n                {\n                    center: [33.251977, 35.7179275],\n                    crs: L.CRS.EPSG3857,\n                    zoom: 13,\n                    zoomControl: true,\n                    preferCanvas: false,\n                }\n            );\n\n            \n\n        \n    \n            var feature_group_4106745532eec8c7ff39b79ecdb23007 = L.featureGroup(\n                {}\n            );\n        \n    \n            var tile_layer_d55c2b9114b439f863d0ef6dbbedc820 = L.tileLayer(\n                &quot;http://localhost:64938/api/tiles/{z}/{x}/{y}.png?\\u0026filename=C%3A%2FUsers%2Fe038654%2FPycharmProjects%2Fgeo_data%2Fscripts%2F..%2Fdata%2FEin-Quinia_image.tif\\u0026indexes.0=1\\u0026indexes.1=2\\u0026indexes.2=3&quot;,\n                {&quot;attribution&quot;: &quot;Raster file served by \\u003ca href=\\u0027https://github.com/banesullivan/localtileserver\\u0027 target=\\u0027_blank\\u0027\\u003elocaltileserver\\u003c/a\\u003e.&quot;, &quot;detectRetina&quot;: false, &quot;maxNativeZoom&quot;: 18, &quot;maxZoom&quot;: 18, &quot;minZoom&quot;: 0, &quot;noWrap&quot;: false, &quot;opacity&quot;: 1, &quot;subdomains&quot;: &quot;abc&quot;, &quot;tms&quot;: false}\n            );\n        \n    \n            tile_layer_d55c2b9114b439f863d0ef6dbbedc820.addTo(feature_group_4106745532eec8c7ff39b79ecdb23007);\n        \n    \n            feature_group_4106745532eec8c7ff39b79ecdb23007.addTo(map_b19be8c4167dac08acdca58efae4b3b3);\n        \n    \n                var lat_lng_popup_26803dfd056d36f8d67567b23bbfeb19 = L.popup();\n                function latLngPop(e) {\n                    lat_lng_popup_26803dfd056d36f8d67567b23bbfeb19\n                        .setLatLng(e.latlng)\n                        .setContent(&quot;Latitude: &quot; + e.latlng.lat.toFixed(4) +\n                                    &quot;&lt;br&gt;Longitude: &quot; + e.latlng.lng.toFixed(4))\n                        .openOn(map_b19be8c4167dac08acdca58efae4b3b3);\n                    }\n                map_b19be8c4167dac08acdca58efae4b3b3.on(&#x27;click&#x27;, latLngPop);\n            \n    \n            var feature_group_cca5955ddf9c7308a8a501ac5a00d5cc = L.featureGroup(\n                {}\n            );\n        \n    \n            var tile_layer_75b055bdb80f0c2468f45fd93fa5e309 = L.tileLayer(\n                &quot;http://localhost:64938/api/tiles/{z}/{x}/{y}.png?\\u0026filename=C%3A%2FUsers%2Fe038654%2FPycharmProjects%2Fgeo_data%2Fscripts%2F..%2Fdata%2FEin-Quinia_elevation.tif\\u0026indexes.0=1&quot;,\n                {&quot;attribution&quot;: &quot;Raster file served by \\u003ca href=\\u0027https://github.com/banesullivan/localtileserver\\u0027 target=\\u0027_blank\\u0027\\u003elocaltileserver\\u003c/a\\u003e.&quot;, &quot;detectRetina&quot;: false, &quot;maxNativeZoom&quot;: 18, &quot;maxZoom&quot;: 18, &quot;minZoom&quot;: 0, &quot;noWrap&quot;: false, &quot;opacity&quot;: 1, &quot;subdomains&quot;: &quot;abc&quot;, &quot;tms&quot;: false}\n            );\n        \n    \n            tile_layer_75b055bdb80f0c2468f45fd93fa5e309.addTo(feature_group_cca5955ddf9c7308a8a501ac5a00d5cc);\n        \n    \n            feature_group_cca5955ddf9c7308a8a501ac5a00d5cc.addTo(map_b19be8c4167dac08acdca58efae4b3b3);\n        \n    \n            var layer_control_53118583146a9297ee9780fcc905593b_layers = {\n                base_layers : {\n                },\n                overlays :  {\n                    &quot;Base&quot; : feature_group_4106745532eec8c7ff39b79ecdb23007,\n                    &quot;Raster&quot; : feature_group_cca5955ddf9c7308a8a501ac5a00d5cc,\n                },\n            };\n            let layer_control_53118583146a9297ee9780fcc905593b = L.control.layers(\n                layer_control_53118583146a9297ee9780fcc905593b_layers.base_layers,\n                layer_control_53118583146a9297ee9780fcc905593b_layers.overlays,\n                {&quot;autoZIndex&quot;: true, &quot;collapsed&quot;: true, &quot;position&quot;: &quot;topright&quot;}\n            ).addTo(map_b19be8c4167dac08acdca58efae4b3b3);\n\n        \n&lt;/script&gt;\n&lt;/html&gt;\" style=\"position:absolute;width:100%;height:100%;left:0;top:0;border:none !important;\" allowfullscreen webkitallowfullscreen mozallowfullscreen></iframe></div></div>"
     },
     "execution_count": 1,
     "metadata": {},
     "output_type": "execute_result"
    }
   ],
   "source": [
    "from localtileserver import get_folium_tile_layer\n",
    "from localtileserver import TileClient\n",
    "from folium import Map\n",
    "import folium\n",
    "import pandas as pd\n",
    "\n",
    "\n",
    "def plot_path_from_csv(map,csv_path=r\"..\\data\\path.csv\",color=\"blue\"):\n",
    "    df = pd.read_csv(csv_path)\n",
    "    for index, row in df.iterrows(): \n",
    "        temp_df = df.iloc[[index]] \n",
    "        html = temp_df.to_html(\n",
    "        classes=\"table table-striped table-hover table-condensed table-responsive\", index=False\n",
    "        )\n",
    "        popup = folium.Popup(html)\n",
    "\n",
    "        tooltip_str= \"data1:  \" + str(row[2])\n",
    "        folium.CircleMarker(\n",
    "        location=[row[0], row[1]],radius=4, color=color, fill_color = color,\n",
    "                               fill_opacity=0.7, popup=popup, tooltip=tooltip_str).add_to(map)\n",
    "\n",
    "    return map\n",
    "\n",
    "\n",
    "def add_base_raster(got_tif,name=\"Base\", rgb=False):\n",
    "# First, create a tile server from local raster file\n",
    "    tile_client = TileClient(got_tif)\n",
    "    if rgb:\n",
    "        band=[1,2,3]\n",
    "    else:\n",
    "        band = [1]\n",
    "    # Create folium tile layer from that server\n",
    "    t = get_folium_tile_layer(tile_client, band=band,name=name)\n",
    "    \n",
    "    m = Map(location=tile_client.center(),tiles=None,zoom_start=13)\n",
    "    feature_group = folium.FeatureGroup(name=name,overlay=True)\n",
    "    feature_group.add_child(t)\n",
    "\n",
    "    feature_group.add_to(m)\n",
    "\n",
    "\n",
    "    m.add_child(folium.LatLngPopup())\n",
    "\n",
    "    \n",
    "    return m\n",
    "\n",
    "def add_raster(got_tif,map, name=\"Raster\", rgb=False):\n",
    "# First, create a tile server from local raster file\n",
    "    tile_client = TileClient(got_tif)\n",
    "    if rgb:\n",
    "        band=[1,2,3]\n",
    "    else:\n",
    "        band = [1]\n",
    "    # Create folium tile layer from that server\n",
    "    s = get_folium_tile_layer(tile_client, band=band,name=name)\n",
    "\n",
    "    feature_group = folium.FeatureGroup(name=name,overlay=True)\n",
    "    feature_group.add_child(s)\n",
    "\n",
    "    feature_group.add_to(m)\n",
    "\n",
    "    \n",
    "    \n",
    "    return map\n",
    "\n",
    "m = add_base_raster(r'..\\data\\Ein-Quinia_image.tif',rgb=True)\n",
    "m = add_raster(r\"..\\data\\Ein-Quinia_elevation.tif\", m)\n",
    "# m = plot_path_from_csv(m, csv_path=r\"..\\data\\path.csv\", color=\"red\")\n",
    "folium.LayerControl().add_to(m)\n",
    "\n",
    "    # add the layer control\n",
    "\n",
    "m"
   ]
  },
  {
   "cell_type": "code",
   "execution_count": 1,
   "id": "677dea03-612d-4ba5-95e1-c69978c71c89",
   "metadata": {},
   "outputs": [],
   "source": []
  }
 ],
 "metadata": {
  "kernelspec": {
   "display_name": "Python 3 (ipykernel)",
   "language": "python",
   "name": "python3"
  },
  "language_info": {
   "codemirror_mode": {
    "name": "ipython",
    "version": 3
   },
   "file_extension": ".py",
   "mimetype": "text/x-python",
   "name": "python",
   "nbconvert_exporter": "python",
   "pygments_lexer": "ipython3",
   "version": "3.8.0"
  }
 },
 "nbformat": 4,
 "nbformat_minor": 5
}
