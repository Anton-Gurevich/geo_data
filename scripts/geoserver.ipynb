{
 "cells": [
  {
   "metadata": {
    "ExecuteTime": {
     "end_time": "2024-05-02T09:45:49.398060Z",
     "start_time": "2024-05-02T09:45:48.589703Z"
    }
   },
   "cell_type": "code",
   "source": [
    "from localtileserver import get_folium_tile_layer\n",
    "from localtileserver import TileClient\n",
    "from folium import Map\n",
    "import folium\n",
    "import pandas as pd\n",
    "import numpy as np\n"
   ],
   "id": "ec901d9255fd2cc8",
   "outputs": [],
   "execution_count": 2
  },
  {
   "metadata": {},
   "cell_type": "markdown",
   "source": "### Note: the 'Trusted' notebook checkbox must be v to allow map view",
   "id": "9402e6255eebaffb"
  },
  {
   "metadata": {
    "ExecuteTime": {
     "end_time": "2024-05-02T11:21:37.064025Z",
     "start_time": "2024-05-02T11:21:37.058396Z"
    }
   },
   "cell_type": "code",
   "source": [
    "def plot_path_from_csv(map, lat_lon_df: pd.DataFrame, color=\"blue\", label_name=\"label\", mouseover_name=\"description\"):\n",
    "    assert {'lat', 'lon'} <= set(lat_lon_df.columns), \"lat_lon_df must contain column 'lat' and column 'lon'\"\n",
    "    feature_group = folium.FeatureGroup(name=label_name, show=False)\n",
    "    for index, row in lat_lon_df.iterrows():\n",
    "        temp_df = lat_lon_df.iloc[[index]]\n",
    "        html = temp_df.to_html(classes=\"table table-striped table-hover table-condensed table-responsive\", index=False)\n",
    "        popup = folium.Popup(html)\n",
    "\n",
    "        tooltip_str = f\"({index}) \" + mouseover_name\n",
    "        folium.CircleMarker(\n",
    "            location=[row['lat'], row['lon']],  \n",
    "            radius=0.5,\n",
    "            color=color,\n",
    "            fill_color=color,\n",
    "            fill_opacity=0.5,\n",
    "            popup=popup,\n",
    "            tooltip=tooltip_str\n",
    "        ).add_to(feature_group)\n",
    "\n",
    "    feature_group.add_to(map)\n",
    "    return map\n",
    "\n",
    "\n",
    "def add_base_raster(got_tif, name=\"Base\", rgb=False):\n",
    "    # First, create a tile server from local raster file\n",
    "    tile_client = TileClient(got_tif)\n",
    "    if rgb:\n",
    "        band=[1,2,3]\n",
    "    else:\n",
    "        band = [1]\n",
    "    # Create folium tile layer from that server\n",
    "    t = get_folium_tile_layer(tile_client, band=band,name=name)\n",
    "    map = Map(location=tile_client.center(),tiles=None,zoom_start=13)\n",
    "    feature_group = folium.FeatureGroup(name=name,overlay=True)\n",
    "    feature_group.add_child(t)\n",
    "    feature_group.add_to(map)\n",
    "    map.add_child(folium.LatLngPopup())\n",
    "\n",
    "    return map\n",
    "\n",
    "\n",
    "def add_raster(got_tif, map, name=\"Raster\", rgb=False):\n",
    "    # First, create a tile server from local raster file\n",
    "    tile_client = TileClient(got_tif)\n",
    "    if rgb:\n",
    "        band=[1,2,3]\n",
    "    else:\n",
    "        band = [1]\n",
    "    # Create folium tile layer from that server\n",
    "    s = get_folium_tile_layer(tile_client, band=band,name=name)\n",
    "\n",
    "    feature_group = folium.FeatureGroup(name=name,overlay=True)\n",
    "    feature_group.add_child(s)\n",
    "\n",
    "    feature_group.add_to(map)\n",
    "    \n",
    "    return map"
   ],
   "id": "d807f0ec-54d6-499a-861c-686f20cdc000",
   "outputs": [],
   "execution_count": 26
  },
  {
   "metadata": {},
   "cell_type": "code",
   "source": [
    "m = add_base_raster(r'../data/Ramot_Menashe_1.0m_24bit_WSG84.tif',rgb=True)\n",
    "# m = add_raster(r\"..\\data\\Ein-Quinia_elevation.tif\", m)\n",
    "traj = pd.read_csv(r'/home/algo/PycharmProjects/geo_data/data/path.csv')\n",
    "traj['lat'] = traj['lat'].apply(lambda x : x * 180 / np.pi)\n",
    "traj['lon'] = traj['lon'].apply(lambda x : x * 180 / np.pi)\n",
    "m = plot_path_from_csv(m, traj)\n",
    "    \n",
    "folium.LayerControl().add_to(m)\n",
    "\n",
    "m"
   ],
   "id": "ffc3230fb06e92fb",
   "outputs": [],
   "execution_count": null
  },
  {
   "metadata": {},
   "cell_type": "code",
   "source": [
    "import rasterio\n",
    "\n",
    "def print_metadata(tif_path):\n",
    "    with rasterio.open(tif_path) as src:\n",
    "        print(\"Metadata for:\", tif_path)\n",
    "        print(\"Width and height:\", src.width, src.height)\n",
    "        print(\"Number of bands:\", src.count)\n",
    "        print(\"Coordinate reference system:\", src.crs)\n",
    "        print(\"Transform:\", src.transform)\n",
    "        print(\"Bounds:\", src.bounds)\n",
    "        for i in range(1, src.count + 1):\n",
    "            band = src.read(i)\n",
    "            print(f\"Statistics for Band {i}: min={band.min()}, max={band.max()}, mean={band.mean()}\")"
   ],
   "id": "9e714092c62c7807",
   "outputs": [],
   "execution_count": 6
  }
 ],
 "metadata": {
  "kernelspec": {
   "display_name": "Python 3 (ipykernel)",
   "language": "python",
   "name": "python3"
  },
  "language_info": {
   "codemirror_mode": {
    "name": "ipython",
    "version": 3
   },
   "file_extension": ".py",
   "mimetype": "text/x-python",
   "name": "python",
   "nbconvert_exporter": "python",
   "pygments_lexer": "ipython3",
   "version": "3.8.0"
  }
 },
 "nbformat": 4,
 "nbformat_minor": 5
}
